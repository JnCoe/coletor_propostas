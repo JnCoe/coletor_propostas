{
 "metadata": {
  "language_info": {
   "codemirror_mode": {
    "name": "ipython",
    "version": 3
   },
   "file_extension": ".py",
   "mimetype": "text/x-python",
   "name": "python",
   "nbconvert_exporter": "python",
   "pygments_lexer": "ipython3",
   "version": "3.7.7-final"
  },
  "orig_nbformat": 2,
  "kernelspec": {
   "name": "python3",
   "display_name": "Python 3"
  }
 },
 "nbformat": 4,
 "nbformat_minor": 2,
 "cells": [
  {
   "cell_type": "code",
   "execution_count": 1,
   "metadata": {},
   "outputs": [],
   "source": [
    "import pandas as pd\n",
    "import numpy as np\n",
    "import urllib\n",
    "import requests\n",
    "import janitor\n",
    "import json\n",
    "import certifi\n",
    "\n",
    "candidatos = pd.read_csv(\"Dados/consulta_cand_2020_BRASIL.csv\", sep=\";\", encoding='latin-1', dtype=object)\n",
    "candidatos = janitor.clean_names(candidatos)\n",
    "\n",
    "candidatos = candidatos[candidatos.ds_cargo == \"PREFEITO\"].reset_index()\n",
    "candidatos['url_proposta'] = \"\"\n",
    "candidatos['id_divulga'] = \"\""
   ]
  },
  {
   "cell_type": "code",
   "execution_count": 5,
   "metadata": {},
   "outputs": [],
   "source": [
    "x = candidatos.iloc[16956].to_dict()"
   ]
  },
  {
   "cell_type": "code",
   "execution_count": 6,
   "metadata": {},
   "outputs": [
    {
     "output_type": "stream",
     "name": "stdout",
     "text": [
      "{'index': 490506, 'dt_geracao': '24/10/2020', 'hh_geracao': '17:09:46', 'ano_eleicao': '2020', 'cd_tipo_eleicao': '2', 'nm_tipo_eleicao': 'ELEIÇÃO ORDINÁRIA', 'nr_turno': '1', 'cd_eleicao': '426', 'ds_eleicao': 'Eleições Municipais 2020', 'dt_eleicao': '15/11/2020', 'tp_abrangencia': 'MUNICIPAL', 'sg_uf': 'MA', 'sg_ue': '07650', 'nm_ue': 'COELHO NETO', 'cd_cargo': '11', 'ds_cargo': 'PREFEITO', 'sq_candidato': '100001040655', 'nr_candidato': '10', 'nm_candidato': 'DORALICE LOPES SANTANA', 'nm_urna_candidato': 'DORALICE SANTANA', 'nm_social_candidato': '#NULO#', 'nr_cpf_candidato': '20795238304', 'nm_email': 'DORALICESANTANA.CN@GMAIL.COM', 'cd_situacao_candidatura': '3', 'ds_situacao_candidatura': 'INAPTO', 'cd_detalhe_situacao_cand': '6', 'ds_detalhe_situacao_cand': 'RENÚNCIA', 'tp_agremiacao': 'PARTIDO ISOLADO', 'nr_partido': '10', 'sg_partido': 'REPUBLICANOS', 'nm_partido': 'REPUBLICANOS', 'sq_coligacao': '100000125606', 'nm_coligacao': 'PARTIDO ISOLADO', 'ds_composicao_coligacao': 'REPUBLICANOS', 'cd_nacionalidade': '1', 'ds_nacionalidade': 'BRASILEIRA NATA', 'sg_uf_nascimento': 'MA', 'cd_municipio_nascimento': '-3', 'nm_municipio_nascimento': 'COELHO NETO', 'dt_nascimento': '20/07/1961', 'nr_idade_data_posse': '59', 'nr_titulo_eleitoral_candidato': '001325992003', 'cd_genero': '4', 'ds_genero': 'FEMININO', 'cd_grau_instrucao': '7', 'ds_grau_instrucao': 'SUPERIOR INCOMPLETO', 'cd_estado_civil': '1', 'ds_estado_civil': 'SOLTEIRO(A)', 'cd_cor_raca': '03', 'ds_cor_raca': 'PARDA', 'cd_ocupacao': '125', 'ds_ocupacao': 'ADMINISTRADOR', 'vr_despesa_max_campanha': '596049', 'cd_sit_tot_turno': '-1', 'ds_sit_tot_turno': '#NULO#', 'st_reeleicao': 'N', 'st_declarar_bens': 'S', 'nr_protocolo_candidatura': '-1', 'nr_processo': '06002658020206100028', 'cd_situacao_candidato_pleito': '-1', 'ds_situacao_candidato_pleito': '#NULO#', 'cd_situacao_candidato_urna': '-1', 'ds_situacao_candidato_urna': '#NULO#', 'st_candidato_inserido_urna': 'NÃO', 'url_proposta': '', 'id_divulga': ''}\n"
     ]
    }
   ],
   "source": [
    "print(x)"
   ]
  },
  {
   "cell_type": "code",
   "execution_count": null,
   "metadata": {},
   "outputs": [],
   "source": []
  }
 ]
}