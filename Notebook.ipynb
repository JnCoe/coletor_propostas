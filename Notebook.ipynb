{
 "metadata": {
  "language_info": {
   "codemirror_mode": {
    "name": "ipython",
    "version": 3
   },
   "file_extension": ".py",
   "mimetype": "text/x-python",
   "name": "python",
   "nbconvert_exporter": "python",
   "pygments_lexer": "ipython3",
   "version": "3.7.7-final"
  },
  "orig_nbformat": 2,
  "kernelspec": {
   "name": "python3",
   "display_name": "Python 3"
  }
 },
 "nbformat": 4,
 "nbformat_minor": 2,
 "cells": [
  {
   "cell_type": "code",
   "execution_count": 1,
   "metadata": {},
   "outputs": [],
   "source": [
    "import pandas as pd\n",
    "import numpy as np\n",
    "import urllib\n",
    "import requests\n",
    "import janitor\n",
    "import json\n",
    "import certifi\n",
    "\n",
    "candidatos = pd.read_csv(\"Dados/consulta_cand_2020_BRASIL.csv\", sep=\";\", encoding='latin-1', dtype=object)\n",
    "candidatos = janitor.clean_names(candidatos)\n",
    "\n",
    "candidatos = candidatos[candidatos.ds_cargo == \"PREFEITO\"].reset_index()\n",
    "candidatos['url_proposta'] = \"\"\n",
    "candidatos['id_divulga'] = \"\""
   ]
  },
  {
   "cell_type": "code",
   "execution_count": 2,
   "metadata": {},
   "outputs": [],
   "source": [
    "candidatos.at[0, 'url_proposta'] = []"
   ]
  },
  {
   "cell_type": "code",
   "execution_count": 3,
   "metadata": {},
   "outputs": [
    {
     "output_type": "execute_result",
     "data": {
      "text/plain": [
       "        index  dt_geracao hh_geracao ano_eleicao cd_tipo_eleicao  \\\n",
       "0           4  24/10/2020   17:09:46        2020               2   \n",
       "1          23  24/10/2020   17:09:46        2020               2   \n",
       "2          40  24/10/2020   17:09:46        2020               2   \n",
       "3          58  24/10/2020   17:09:46        2020               2   \n",
       "4         102  24/10/2020   17:09:46        2020               2   \n",
       "...       ...         ...        ...         ...             ...   \n",
       "19225  555936  24/10/2020   17:09:46        2020               2   \n",
       "19226  555978  24/10/2020   17:09:46        2020               2   \n",
       "19227  555991  24/10/2020   17:09:46        2020               2   \n",
       "19228  555993  24/10/2020   17:09:46        2020               2   \n",
       "19229  556007  24/10/2020   17:09:46        2020               2   \n",
       "\n",
       "         nm_tipo_eleicao nr_turno cd_eleicao                ds_eleicao  \\\n",
       "0      ELEIÇÃO ORDINÁRIA        1        426  Eleições Municipais 2020   \n",
       "1      ELEIÇÃO ORDINÁRIA        1        426  Eleições Municipais 2020   \n",
       "2      ELEIÇÃO ORDINÁRIA        1        426  Eleições Municipais 2020   \n",
       "3      ELEIÇÃO ORDINÁRIA        1        426  Eleições Municipais 2020   \n",
       "4      ELEIÇÃO ORDINÁRIA        1        426  Eleições Municipais 2020   \n",
       "...                  ...      ...        ...                       ...   \n",
       "19225  ELEIÇÃO ORDINÁRIA        1        426  Eleições Municipais 2020   \n",
       "19226  ELEIÇÃO ORDINÁRIA        1        426  Eleições Municipais 2020   \n",
       "19227  ELEIÇÃO ORDINÁRIA        1        426  Eleições Municipais 2020   \n",
       "19228  ELEIÇÃO ORDINÁRIA        1        426  Eleições Municipais 2020   \n",
       "19229  ELEIÇÃO ORDINÁRIA        1        426  Eleições Municipais 2020   \n",
       "\n",
       "       dt_eleicao  ... st_declarar_bens nr_protocolo_candidatura  \\\n",
       "0      15/11/2020  ...                S                       -1   \n",
       "1      15/11/2020  ...                S                       -1   \n",
       "2      15/11/2020  ...                S                       -1   \n",
       "3      15/11/2020  ...                S                       -1   \n",
       "4      15/11/2020  ...                S                       -1   \n",
       "...           ...  ...              ...                      ...   \n",
       "19225  15/11/2020  ...                S                       -1   \n",
       "19226  15/11/2020  ...                S                       -1   \n",
       "19227  15/11/2020  ...                S                       -1   \n",
       "19228  15/11/2020  ...                S                       -1   \n",
       "19229  15/11/2020  ...                S                       -1   \n",
       "\n",
       "                nr_processo cd_situacao_candidato_pleito  \\\n",
       "0      06002521920206130054                           -1   \n",
       "1      06004307520206140074                           -1   \n",
       "2      06002604220206050143                           -1   \n",
       "3      06000525220206210098                           -1   \n",
       "4      06001876720206130169                           -1   \n",
       "...                     ...                          ...   \n",
       "19225  06001253320206130070                           -1   \n",
       "19226  06001833620206260147                           -1   \n",
       "19227  06003741120206260041                           -1   \n",
       "19228  06003634420206240006                           -1   \n",
       "19229  06001224220206190028                           -1   \n",
       "\n",
       "      ds_situacao_candidato_pleito cd_situacao_candidato_urna  \\\n",
       "0                           #NULO#                         -1   \n",
       "1                           #NULO#                         -1   \n",
       "2                           #NULO#                         -1   \n",
       "3                           #NULO#                         -1   \n",
       "4                           #NULO#                         -1   \n",
       "...                            ...                        ...   \n",
       "19225                       #NULO#                         -1   \n",
       "19226                       #NULO#                         -1   \n",
       "19227                       #NULO#                         -1   \n",
       "19228                       #NULO#                         -1   \n",
       "19229                       #NULO#                         -1   \n",
       "\n",
       "      ds_situacao_candidato_urna st_candidato_inserido_urna url_proposta  \\\n",
       "0                         #NULO#                        NÃO           []   \n",
       "1                         #NULO#                        SIM                \n",
       "2                         #NULO#                        SIM                \n",
       "3                         #NULO#                        SIM                \n",
       "4                         #NULO#                        NÃO                \n",
       "...                          ...                        ...          ...   \n",
       "19225                     #NULO#                        SIM                \n",
       "19226                     #NULO#                        NÃO                \n",
       "19227                     #NULO#                        SIM                \n",
       "19228                     #NULO#                        SIM                \n",
       "19229                     #NULO#                        SIM                \n",
       "\n",
       "      id_divulga  \n",
       "0                 \n",
       "1                 \n",
       "2                 \n",
       "3                 \n",
       "4                 \n",
       "...          ...  \n",
       "19225             \n",
       "19226             \n",
       "19227             \n",
       "19228             \n",
       "19229             \n",
       "\n",
       "[19230 rows x 66 columns]"
      ],
      "text/html": "<div>\n<style scoped>\n    .dataframe tbody tr th:only-of-type {\n        vertical-align: middle;\n    }\n\n    .dataframe tbody tr th {\n        vertical-align: top;\n    }\n\n    .dataframe thead th {\n        text-align: right;\n    }\n</style>\n<table border=\"1\" class=\"dataframe\">\n  <thead>\n    <tr style=\"text-align: right;\">\n      <th></th>\n      <th>index</th>\n      <th>dt_geracao</th>\n      <th>hh_geracao</th>\n      <th>ano_eleicao</th>\n      <th>cd_tipo_eleicao</th>\n      <th>nm_tipo_eleicao</th>\n      <th>nr_turno</th>\n      <th>cd_eleicao</th>\n      <th>ds_eleicao</th>\n      <th>dt_eleicao</th>\n      <th>...</th>\n      <th>st_declarar_bens</th>\n      <th>nr_protocolo_candidatura</th>\n      <th>nr_processo</th>\n      <th>cd_situacao_candidato_pleito</th>\n      <th>ds_situacao_candidato_pleito</th>\n      <th>cd_situacao_candidato_urna</th>\n      <th>ds_situacao_candidato_urna</th>\n      <th>st_candidato_inserido_urna</th>\n      <th>url_proposta</th>\n      <th>id_divulga</th>\n    </tr>\n  </thead>\n  <tbody>\n    <tr>\n      <th>0</th>\n      <td>4</td>\n      <td>24/10/2020</td>\n      <td>17:09:46</td>\n      <td>2020</td>\n      <td>2</td>\n      <td>ELEIÇÃO ORDINÁRIA</td>\n      <td>1</td>\n      <td>426</td>\n      <td>Eleições Municipais 2020</td>\n      <td>15/11/2020</td>\n      <td>...</td>\n      <td>S</td>\n      <td>-1</td>\n      <td>06002521920206130054</td>\n      <td>-1</td>\n      <td>#NULO#</td>\n      <td>-1</td>\n      <td>#NULO#</td>\n      <td>NÃO</td>\n      <td>[]</td>\n      <td></td>\n    </tr>\n    <tr>\n      <th>1</th>\n      <td>23</td>\n      <td>24/10/2020</td>\n      <td>17:09:46</td>\n      <td>2020</td>\n      <td>2</td>\n      <td>ELEIÇÃO ORDINÁRIA</td>\n      <td>1</td>\n      <td>426</td>\n      <td>Eleições Municipais 2020</td>\n      <td>15/11/2020</td>\n      <td>...</td>\n      <td>S</td>\n      <td>-1</td>\n      <td>06004307520206140074</td>\n      <td>-1</td>\n      <td>#NULO#</td>\n      <td>-1</td>\n      <td>#NULO#</td>\n      <td>SIM</td>\n      <td></td>\n      <td></td>\n    </tr>\n    <tr>\n      <th>2</th>\n      <td>40</td>\n      <td>24/10/2020</td>\n      <td>17:09:46</td>\n      <td>2020</td>\n      <td>2</td>\n      <td>ELEIÇÃO ORDINÁRIA</td>\n      <td>1</td>\n      <td>426</td>\n      <td>Eleições Municipais 2020</td>\n      <td>15/11/2020</td>\n      <td>...</td>\n      <td>S</td>\n      <td>-1</td>\n      <td>06002604220206050143</td>\n      <td>-1</td>\n      <td>#NULO#</td>\n      <td>-1</td>\n      <td>#NULO#</td>\n      <td>SIM</td>\n      <td></td>\n      <td></td>\n    </tr>\n    <tr>\n      <th>3</th>\n      <td>58</td>\n      <td>24/10/2020</td>\n      <td>17:09:46</td>\n      <td>2020</td>\n      <td>2</td>\n      <td>ELEIÇÃO ORDINÁRIA</td>\n      <td>1</td>\n      <td>426</td>\n      <td>Eleições Municipais 2020</td>\n      <td>15/11/2020</td>\n      <td>...</td>\n      <td>S</td>\n      <td>-1</td>\n      <td>06000525220206210098</td>\n      <td>-1</td>\n      <td>#NULO#</td>\n      <td>-1</td>\n      <td>#NULO#</td>\n      <td>SIM</td>\n      <td></td>\n      <td></td>\n    </tr>\n    <tr>\n      <th>4</th>\n      <td>102</td>\n      <td>24/10/2020</td>\n      <td>17:09:46</td>\n      <td>2020</td>\n      <td>2</td>\n      <td>ELEIÇÃO ORDINÁRIA</td>\n      <td>1</td>\n      <td>426</td>\n      <td>Eleições Municipais 2020</td>\n      <td>15/11/2020</td>\n      <td>...</td>\n      <td>S</td>\n      <td>-1</td>\n      <td>06001876720206130169</td>\n      <td>-1</td>\n      <td>#NULO#</td>\n      <td>-1</td>\n      <td>#NULO#</td>\n      <td>NÃO</td>\n      <td></td>\n      <td></td>\n    </tr>\n    <tr>\n      <th>...</th>\n      <td>...</td>\n      <td>...</td>\n      <td>...</td>\n      <td>...</td>\n      <td>...</td>\n      <td>...</td>\n      <td>...</td>\n      <td>...</td>\n      <td>...</td>\n      <td>...</td>\n      <td>...</td>\n      <td>...</td>\n      <td>...</td>\n      <td>...</td>\n      <td>...</td>\n      <td>...</td>\n      <td>...</td>\n      <td>...</td>\n      <td>...</td>\n      <td>...</td>\n      <td>...</td>\n    </tr>\n    <tr>\n      <th>19225</th>\n      <td>555936</td>\n      <td>24/10/2020</td>\n      <td>17:09:46</td>\n      <td>2020</td>\n      <td>2</td>\n      <td>ELEIÇÃO ORDINÁRIA</td>\n      <td>1</td>\n      <td>426</td>\n      <td>Eleições Municipais 2020</td>\n      <td>15/11/2020</td>\n      <td>...</td>\n      <td>S</td>\n      <td>-1</td>\n      <td>06001253320206130070</td>\n      <td>-1</td>\n      <td>#NULO#</td>\n      <td>-1</td>\n      <td>#NULO#</td>\n      <td>SIM</td>\n      <td></td>\n      <td></td>\n    </tr>\n    <tr>\n      <th>19226</th>\n      <td>555978</td>\n      <td>24/10/2020</td>\n      <td>17:09:46</td>\n      <td>2020</td>\n      <td>2</td>\n      <td>ELEIÇÃO ORDINÁRIA</td>\n      <td>1</td>\n      <td>426</td>\n      <td>Eleições Municipais 2020</td>\n      <td>15/11/2020</td>\n      <td>...</td>\n      <td>S</td>\n      <td>-1</td>\n      <td>06001833620206260147</td>\n      <td>-1</td>\n      <td>#NULO#</td>\n      <td>-1</td>\n      <td>#NULO#</td>\n      <td>NÃO</td>\n      <td></td>\n      <td></td>\n    </tr>\n    <tr>\n      <th>19227</th>\n      <td>555991</td>\n      <td>24/10/2020</td>\n      <td>17:09:46</td>\n      <td>2020</td>\n      <td>2</td>\n      <td>ELEIÇÃO ORDINÁRIA</td>\n      <td>1</td>\n      <td>426</td>\n      <td>Eleições Municipais 2020</td>\n      <td>15/11/2020</td>\n      <td>...</td>\n      <td>S</td>\n      <td>-1</td>\n      <td>06003741120206260041</td>\n      <td>-1</td>\n      <td>#NULO#</td>\n      <td>-1</td>\n      <td>#NULO#</td>\n      <td>SIM</td>\n      <td></td>\n      <td></td>\n    </tr>\n    <tr>\n      <th>19228</th>\n      <td>555993</td>\n      <td>24/10/2020</td>\n      <td>17:09:46</td>\n      <td>2020</td>\n      <td>2</td>\n      <td>ELEIÇÃO ORDINÁRIA</td>\n      <td>1</td>\n      <td>426</td>\n      <td>Eleições Municipais 2020</td>\n      <td>15/11/2020</td>\n      <td>...</td>\n      <td>S</td>\n      <td>-1</td>\n      <td>06003634420206240006</td>\n      <td>-1</td>\n      <td>#NULO#</td>\n      <td>-1</td>\n      <td>#NULO#</td>\n      <td>SIM</td>\n      <td></td>\n      <td></td>\n    </tr>\n    <tr>\n      <th>19229</th>\n      <td>556007</td>\n      <td>24/10/2020</td>\n      <td>17:09:46</td>\n      <td>2020</td>\n      <td>2</td>\n      <td>ELEIÇÃO ORDINÁRIA</td>\n      <td>1</td>\n      <td>426</td>\n      <td>Eleições Municipais 2020</td>\n      <td>15/11/2020</td>\n      <td>...</td>\n      <td>S</td>\n      <td>-1</td>\n      <td>06001224220206190028</td>\n      <td>-1</td>\n      <td>#NULO#</td>\n      <td>-1</td>\n      <td>#NULO#</td>\n      <td>SIM</td>\n      <td></td>\n      <td></td>\n    </tr>\n  </tbody>\n</table>\n<p>19230 rows × 66 columns</p>\n</div>"
     },
     "metadata": {},
     "execution_count": 3
    }
   ],
   "source": [
    "pd.set_option('display.max_columns', None)\n",
    "candidatos"
   ]
  }
 ]
}